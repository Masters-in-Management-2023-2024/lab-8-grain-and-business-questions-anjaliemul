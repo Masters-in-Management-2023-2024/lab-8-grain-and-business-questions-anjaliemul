{
  "cells": [
    {
      "cell_type": "markdown",
      "metadata": {
        "id": "KfxQ4Smczcr1"
      },
      "source": [
        "# Diamond Company Analytics Challenge\n",
        "\n",
        "**Time:** 35 minutes\n",
        "\n",
        "**Scenario:** You are the new data analyst at a prestigious diamond company. The CEO has called an urgent meeting and needs answers to critical business questions about the inventory.\n",
        "\n",
        "**Your Mission:** Analyze the diamond inventory data and provide insights to guide strategic decisions."
      ]
    },
    {
      "cell_type": "code",
      "execution_count": 1,
      "metadata": {
        "colab": {
          "base_uri": "https://localhost:8080/"
        },
        "id": "eSDi1pzyzcr2",
        "outputId": "fee21743-9507-45a5-b6bd-3ac6595141fa"
      },
      "outputs": [
        {
          "output_type": "stream",
          "name": "stdout",
          "text": [
            "Loading diamonds dataset...\n",
            "Dataset loaded successfully!\n"
          ]
        }
      ],
      "source": [
        "import polars as pl\n",
        "\n",
        "# Load the diamonds dataset\n",
        "print(\"Loading diamonds dataset...\")\n",
        "df = pl.read_csv('https://raw.githubusercontent.com/pycaret/pycaret/master/datasets/diamond.csv')\n",
        "print(\"Dataset loaded successfully!\")"
      ]
    },
    {
      "cell_type": "markdown",
      "metadata": {
        "id": "fPple7sPzcr3"
      },
      "source": [
        "## Section 1: Initial Inventory Assessment (5 minutes)\n",
        "\n",
        "The CEO walks in: \"Before we dive into specifics, I need to understand what we're working with. Give me the basics about our inventory database.\""
      ]
    },
    {
      "cell_type": "markdown",
      "metadata": {
        "id": "ZnFl6Upvzcr3"
      },
      "source": [
        "### Question 1: \"How extensive is our inventory database?\"\n",
        "\n",
        "The CEO needs to know the scale of data you're analyzing."
      ]
    },
    {
      "cell_type": "code",
      "execution_count": 7,
      "metadata": {
        "colab": {
          "base_uri": "https://localhost:8080/",
          "height": 446
        },
        "id": "b6rIu39pzcr3",
        "outputId": "3e30bb59-f423-49c3-9da1-67d39ea33b8d"
      },
      "outputs": [
        {
          "output_type": "stream",
          "name": "stdout",
          "text": [
            "Shape: (6000, 8)\n",
            "Columns: ['Carat Weight', 'Cut', 'Color', 'Clarity', 'Polish', 'Symmetry', 'Report', 'Price']\n"
          ]
        },
        {
          "output_type": "execute_result",
          "data": {
            "text/plain": [
              "shape: (10, 8)\n",
              "┌──────────────┬───────────┬───────┬─────────┬────────┬──────────┬────────┬───────┐\n",
              "│ Carat Weight ┆ Cut       ┆ Color ┆ Clarity ┆ Polish ┆ Symmetry ┆ Report ┆ Price │\n",
              "│ ---          ┆ ---       ┆ ---   ┆ ---     ┆ ---    ┆ ---      ┆ ---    ┆ ---   │\n",
              "│ f64          ┆ str       ┆ str   ┆ str     ┆ str    ┆ str      ┆ str    ┆ i64   │\n",
              "╞══════════════╪═══════════╪═══════╪═════════╪════════╪══════════╪════════╪═══════╡\n",
              "│ 1.1          ┆ Ideal     ┆ H     ┆ SI1     ┆ VG     ┆ EX       ┆ GIA    ┆ 5169  │\n",
              "│ 0.83         ┆ Ideal     ┆ H     ┆ VS1     ┆ ID     ┆ ID       ┆ AGSL   ┆ 3470  │\n",
              "│ 0.85         ┆ Ideal     ┆ H     ┆ SI1     ┆ EX     ┆ EX       ┆ GIA    ┆ 3183  │\n",
              "│ 0.91         ┆ Ideal     ┆ E     ┆ SI1     ┆ VG     ┆ VG       ┆ GIA    ┆ 4370  │\n",
              "│ 0.83         ┆ Ideal     ┆ G     ┆ SI1     ┆ EX     ┆ EX       ┆ GIA    ┆ 3171  │\n",
              "│ 1.53         ┆ Ideal     ┆ E     ┆ SI1     ┆ ID     ┆ ID       ┆ AGSL   ┆ 12791 │\n",
              "│ 1.0          ┆ Very Good ┆ D     ┆ SI1     ┆ VG     ┆ G        ┆ GIA    ┆ 5747  │\n",
              "│ 1.5          ┆ Fair      ┆ F     ┆ SI1     ┆ VG     ┆ VG       ┆ GIA    ┆ 10450 │\n",
              "│ 2.11         ┆ Ideal     ┆ H     ┆ SI1     ┆ VG     ┆ VG       ┆ GIA    ┆ 18609 │\n",
              "│ 1.05         ┆ Very Good ┆ E     ┆ VS1     ┆ VG     ┆ G        ┆ GIA    ┆ 7666  │\n",
              "└──────────────┴───────────┴───────┴─────────┴────────┴──────────┴────────┴───────┘"
            ],
            "text/html": [
              "<div><style>\n",
              ".dataframe > thead > tr,\n",
              ".dataframe > tbody > tr {\n",
              "  text-align: right;\n",
              "  white-space: pre-wrap;\n",
              "}\n",
              "</style>\n",
              "<small>shape: (10, 8)</small><table border=\"1\" class=\"dataframe\"><thead><tr><th>Carat Weight</th><th>Cut</th><th>Color</th><th>Clarity</th><th>Polish</th><th>Symmetry</th><th>Report</th><th>Price</th></tr><tr><td>f64</td><td>str</td><td>str</td><td>str</td><td>str</td><td>str</td><td>str</td><td>i64</td></tr></thead><tbody><tr><td>1.1</td><td>&quot;Ideal&quot;</td><td>&quot;H&quot;</td><td>&quot;SI1&quot;</td><td>&quot;VG&quot;</td><td>&quot;EX&quot;</td><td>&quot;GIA&quot;</td><td>5169</td></tr><tr><td>0.83</td><td>&quot;Ideal&quot;</td><td>&quot;H&quot;</td><td>&quot;VS1&quot;</td><td>&quot;ID&quot;</td><td>&quot;ID&quot;</td><td>&quot;AGSL&quot;</td><td>3470</td></tr><tr><td>0.85</td><td>&quot;Ideal&quot;</td><td>&quot;H&quot;</td><td>&quot;SI1&quot;</td><td>&quot;EX&quot;</td><td>&quot;EX&quot;</td><td>&quot;GIA&quot;</td><td>3183</td></tr><tr><td>0.91</td><td>&quot;Ideal&quot;</td><td>&quot;E&quot;</td><td>&quot;SI1&quot;</td><td>&quot;VG&quot;</td><td>&quot;VG&quot;</td><td>&quot;GIA&quot;</td><td>4370</td></tr><tr><td>0.83</td><td>&quot;Ideal&quot;</td><td>&quot;G&quot;</td><td>&quot;SI1&quot;</td><td>&quot;EX&quot;</td><td>&quot;EX&quot;</td><td>&quot;GIA&quot;</td><td>3171</td></tr><tr><td>1.53</td><td>&quot;Ideal&quot;</td><td>&quot;E&quot;</td><td>&quot;SI1&quot;</td><td>&quot;ID&quot;</td><td>&quot;ID&quot;</td><td>&quot;AGSL&quot;</td><td>12791</td></tr><tr><td>1.0</td><td>&quot;Very Good&quot;</td><td>&quot;D&quot;</td><td>&quot;SI1&quot;</td><td>&quot;VG&quot;</td><td>&quot;G&quot;</td><td>&quot;GIA&quot;</td><td>5747</td></tr><tr><td>1.5</td><td>&quot;Fair&quot;</td><td>&quot;F&quot;</td><td>&quot;SI1&quot;</td><td>&quot;VG&quot;</td><td>&quot;VG&quot;</td><td>&quot;GIA&quot;</td><td>10450</td></tr><tr><td>2.11</td><td>&quot;Ideal&quot;</td><td>&quot;H&quot;</td><td>&quot;SI1&quot;</td><td>&quot;VG&quot;</td><td>&quot;VG&quot;</td><td>&quot;GIA&quot;</td><td>18609</td></tr><tr><td>1.05</td><td>&quot;Very Good&quot;</td><td>&quot;E&quot;</td><td>&quot;VS1&quot;</td><td>&quot;VG&quot;</td><td>&quot;G&quot;</td><td>&quot;GIA&quot;</td><td>7666</td></tr></tbody></table></div>"
            ]
          },
          "metadata": {},
          "execution_count": 7
        }
      ],
      "source": [
        "# Your code here:\n",
        "print(f\"Shape: {df.shape}\")\n",
        "print(f\"Columns: {df.columns}\")\n",
        "df.head(10)\n"
      ]
    },
    {
      "cell_type": "markdown",
      "metadata": {
        "id": "IKGSNL2nzcr3"
      },
      "source": [
        "### Question 2: \"What information do we track about each diamond?\"\n",
        "\n",
        "List all the characteristics we record."
      ]
    },
    {
      "cell_type": "code",
      "execution_count": 9,
      "metadata": {
        "colab": {
          "base_uri": "https://localhost:8080/"
        },
        "id": "gIzLRsg4zcr3",
        "outputId": "6171722d-4732-44da-d9a0-7e1e000ddaf9"
      },
      "outputs": [
        {
          "output_type": "stream",
          "name": "stdout",
          "text": [
            "Total number of rows: 6000\n",
            "\n",
            "Each row represents: ONE DIAMOND\n",
            "This is our current grain: diamond-level data\n",
            "We are tracking the following characteristics of each diamond:\n",
            "\"Carat Weight,– the size/weight of the diamond.\n",
            "\"Cut – quality of the diamond’s cut (eg: Ideal, Very Good, Good).\n",
            "\"Color – the diamond’s color grade which is represented by a letter (Eg: E, H, G)\n",
            "\"Clarity – how clear the diamond is, based on inclusions/flaws represented by an abreviation (e.g:SI1,VS1)\n",
            "\"Polish – quality of the diamond’s surface finish after cutting represented by an abreviation. (eg: VG,EX,ID)\n",
            "\"Symmetry – how well the diamond’s facets are aligned represented by an abreviation. (eg:EX,VG,ID)\n",
            "\"Report – certification or grading lab report (e.g., GIA, AGSL).\n",
            "'Price – the diamond’s selling price (in dollars).\n",
            "\n",
            "\"So, the dataset tracks both physical attributes (Carat, Cut, Color, Clarity, Polish, Symmetry) and business attributes (Report, Price).\n"
          ]
        }
      ],
      "source": [
        "# Your code here:\n",
        "print(f\"Total number of rows: {len(df)}\")\n",
        "print(\"\\nEach row represents: ONE DIAMOND\")\n",
        "print(\"This is our current grain: diamond-level data\")\n",
        "print(\"\"\"We are tracking the following characteristics of each diamond:\n",
        "\"Carat Weight,– the size/weight of the diamond.\n",
        "\"Cut – quality of the diamond’s cut (eg: Ideal, Very Good, Good).\n",
        "\"Color – the diamond’s color grade which is represented by a letter (Eg: E, H, G)\n",
        "\"Clarity – how clear the diamond is, based on inclusions/flaws represented by an abreviation (e.g:SI1,VS1)\n",
        "\"Polish – quality of the diamond’s surface finish after cutting represented by an abreviation. (eg: VG,EX,ID)\n",
        "\"Symmetry – how well the diamond’s facets are aligned represented by an abreviation. (eg:EX,VG,ID)\n",
        "\"Report – certification or grading lab report (e.g., GIA, AGSL).\n",
        "'Price – the diamond’s selling price (in dollars).\n",
        "\n",
        "\"So, the dataset tracks both physical attributes (Carat, Cut, Color, Clarity, Polish, Symmetry) and business attributes (Report, Price).\"\"\")"
      ]
    },
    {
      "cell_type": "code",
      "source": [],
      "metadata": {
        "id": "_tnKXlrn2Oq1"
      },
      "execution_count": null,
      "outputs": []
    },
    {
      "cell_type": "markdown",
      "metadata": {
        "id": "bLbKY9Gpzcr3"
      },
      "source": [
        "### Question 3: \"When I look at one line in this database, what am I looking at?\"\n",
        "\n",
        "Explain in business terms:"
      ]
    },
    {
      "cell_type": "markdown",
      "metadata": {
        "id": "JrmE22LYzcr3"
      },
      "source": [
        "**Your answer:** Each row represents: represents a single diamond in the company's current inventory.\n",
        "\n",
        "The dataset provides a “profile card” of a diamond, showing its physical qualities (size, beauty, grading characteristics) and market information (price and certification).\n",
        "\n",
        "Eg of a row: Carat Weight: 1.2, Cut: Ideal, Color: G, Clarity: VVS2, Polish: ID, Symmetry: ID, Report: GIA, Price: $15,000\n",
        "\n",
        "That row = one diamond product, ready to be sold, with all the details a jeweler or customer would need to evaluate it."
      ]
    },
    {
      "cell_type": "markdown",
      "metadata": {
        "id": "3WvIe_cpzcr4"
      },
      "source": [
        "## Section 2: Strategic Business Questions (20 minutes)\n",
        "\n",
        "The CEO continues: \"Now let's get to the important questions. Our board meeting is tomorrow and I need concrete numbers.\""
      ]
    },
    {
      "cell_type": "markdown",
      "metadata": {
        "id": "oTIa7OYXzcr4"
      },
      "source": [
        "### Question 4: \"We're considering expanding our storage facilities. How many total carats do we have in inventory? I need to know if our vaults can handle the weight.\"\n",
        "\n",
        "Think about what measurement would help answer this."
      ]
    },
    {
      "cell_type": "code",
      "execution_count": 10,
      "metadata": {
        "colab": {
          "base_uri": "https://localhost:8080/"
        },
        "id": "dX8RxpmEzcr4",
        "outputId": "f2ded402-d893-4181-ad87-b09d58111048"
      },
      "outputs": [
        {
          "output_type": "stream",
          "name": "stdout",
          "text": [
            "Total carats in inventory: shape: (1, 1)\n",
            "┌──────────────┐\n",
            "│ Carat Weight │\n",
            "│ ---          │\n",
            "│ f64          │\n",
            "╞══════════════╡\n",
            "│ 8007.12      │\n",
            "└──────────────┘\n",
            "Total weight in grams: shape: (1, 1)\n",
            "┌──────────────┐\n",
            "│ Carat Weight │\n",
            "│ ---          │\n",
            "│ f64          │\n",
            "╞══════════════╡\n",
            "│ 1601.424     │\n",
            "└──────────────┘\n",
            "Total weight in kilograms: shape: (1, 1)\n",
            "┌──────────────┐\n",
            "│ Carat Weight │\n",
            "│ ---          │\n",
            "│ f64          │\n",
            "╞══════════════╡\n",
            "│ 1.601424     │\n",
            "└──────────────┘\n"
          ]
        }
      ],
      "source": [
        "# Your code here:\n",
        "import polars as pl\n",
        "df = pl.read_csv('https://raw.githubusercontent.com/pycaret/pycaret/master/datasets/diamond.csv')\n",
        "total_carats = df.select(pl.col(\"Carat Weight\").sum())\n",
        "print(\"Total carats in inventory:\", total_carats)\n",
        "\n",
        "# Convertion\n",
        "total_grams = total_carats * 0.2\n",
        "total_kg = total_grams / 1000\n",
        "\n",
        "print(\"Total weight in grams:\", total_grams)\n",
        "print(\"Total weight in kilograms:\", total_kg)"
      ]
    },
    {
      "cell_type": "markdown",
      "metadata": {
        "id": "IqwrSkkezcr4"
      },
      "source": [
        "### Question 5: \"Our new marketing campaign claims we have 'the widest variety of cuts in the industry.' Can you verify this?\"\n",
        "\n",
        "The CEO wants to know about variety, not quantity."
      ]
    },
    {
      "cell_type": "code",
      "execution_count": 11,
      "metadata": {
        "colab": {
          "base_uri": "https://localhost:8080/"
        },
        "id": "nbKQnVvmzcr4",
        "outputId": "8a0661f6-daca-4c6d-d515-79813f9ec021"
      },
      "outputs": [
        {
          "output_type": "stream",
          "name": "stdout",
          "text": [
            "Unique cuts in inventory: ['Fair', 'Ideal', 'Good', 'Very Good', 'Signature-Ideal']\n",
            "Number of unique cut types: 5\n"
          ]
        }
      ],
      "source": [
        "# Your code here:\n",
        "unique_cuts = df.select(pl.col(\"Cut\").unique())\n",
        "num_unique_cuts = unique_cuts.height\n",
        "\n",
        "print(\"Unique cuts in inventory:\", unique_cuts.to_series().to_list())\n",
        "print(\"Number of unique cut types:\", num_unique_cuts)\n"
      ]
    },
    {
      "cell_type": "markdown",
      "metadata": {
        "id": "8OE41EkCzcr4"
      },
      "source": [
        "### Question 6: \"I'm meeting with our insurance company. They need to know our price exposure - what's our most and least valuable diamond?\""
      ]
    },
    {
      "cell_type": "code",
      "execution_count": 13,
      "metadata": {
        "colab": {
          "base_uri": "https://localhost:8080/"
        },
        "id": "_LjQIvGizcr4",
        "outputId": "ac3d13bb-c9a7-4c2c-cf54-af565ad621f1"
      },
      "outputs": [
        {
          "output_type": "stream",
          "name": "stdout",
          "text": [
            "shape: (1, 2)\n",
            "┌─────────────────────────────┬────────────────────────────┐\n",
            "│ Least Valuable (price in $) ┆ Most Valuable (price in $) │\n",
            "│ ---                         ┆ ---                        │\n",
            "│ i64                         ┆ i64                        │\n",
            "╞═════════════════════════════╪════════════════════════════╡\n",
            "│ 2184                        ┆ 101561                     │\n",
            "└─────────────────────────────┴────────────────────────────┘\n"
          ]
        }
      ],
      "source": [
        "# Your code here:\n",
        "price_stats = df.select([\n",
        "    pl.col(\"Price\").min().alias(\"Least Valuable (price in $)\"),\n",
        "    pl.col(\"Price\").max().alias(\"Most Valuable (price in $)\")\n",
        "])\n",
        "\n",
        "print(price_stats)\n"
      ]
    },
    {
      "cell_type": "markdown",
      "metadata": {
        "id": "JcyWN_p_zcr4"
      },
      "source": [
        "### Question 7: \"Which color grades should we focus on in our premium line? I need typical prices across our color spectrum.\"\n",
        "\n",
        "The CEO wants to understand pricing patterns."
      ]
    },
    {
      "cell_type": "code",
      "execution_count": 14,
      "metadata": {
        "colab": {
          "base_uri": "https://localhost:8080/"
        },
        "id": "BUUf4cZ1zcr4",
        "outputId": "fb3a606f-6d18-4ed6-bf1b-ee13b88010e6"
      },
      "outputs": [
        {
          "output_type": "stream",
          "name": "stdout",
          "text": [
            "shape: (6, 3)\n",
            "┌───────┬───────────────┬──────────────┐\n",
            "│ Color ┆ Average Price ┆ Median Price │\n",
            "│ ---   ┆ ---           ┆ ---          │\n",
            "│ str   ┆ f64           ┆ f64          │\n",
            "╞═══════╪═══════════════╪══════════════╡\n",
            "│ D     ┆ 15255.783661  ┆ 7567.0       │\n",
            "│ F     ┆ 12712.241856  ┆ 8860.0       │\n",
            "│ G     ┆ 12520.050633  ┆ 8800.0       │\n",
            "│ E     ┆ 11539.190231  ┆ 7059.5       │\n",
            "│ H     ┆ 10487.347544  ┆ 7169.0       │\n",
            "│ I     ┆ 8989.636364   ┆ 6655.0       │\n",
            "└───────┴───────────────┴──────────────┘\n"
          ]
        }
      ],
      "source": [
        "# Your code here:\n",
        "price_by_color = (\n",
        "    df.group_by(\"Color\")\n",
        "      .agg([\n",
        "          pl.col(\"Price\").mean().alias(\"Average Price\"),\n",
        "          pl.col(\"Price\").median().alias(\"Median Price\")\n",
        "      ])\n",
        "      .sort(\"Average Price\", descending=True)\n",
        ")\n",
        "\n",
        "print(price_by_color)"
      ]
    },
    {
      "cell_type": "markdown",
      "metadata": {
        "id": "NYi3YJaSzcr4"
      },
      "source": [
        "**Reflection:** After analyzing by color, how has your view of the data changed? What does each row in your result represent now?"
      ]
    },
    {
      "cell_type": "markdown",
      "metadata": {
        "id": "aZduSeSwzcr4"
      },
      "source": [
        "**Your answer:** New grain ="
      ]
    },
    {
      "cell_type": "markdown",
      "metadata": {
        "id": "3h2KVQtZzcr4"
      },
      "source": [
        "## Section 3: Advanced Strategic Analysis (10 minutes)\n",
        "\n",
        "The CEO leans forward: \"These next questions will shape our strategy for next year.\""
      ]
    },
    {
      "cell_type": "markdown",
      "metadata": {
        "id": "rMXAp2S2zcr4"
      },
      "source": [
        "### Question 8: \"We're thinking of specializing in certain clarity grades. For our investor deck, I need a complete breakdown showing: how many diamonds we have in each clarity grade, their typical price, and the total carats we're holding for each grade.\""
      ]
    },
    {
      "cell_type": "code",
      "execution_count": 22,
      "metadata": {
        "colab": {
          "base_uri": "https://localhost:8080/"
        },
        "id": "OgkfY1_azcr4",
        "outputId": "3bb56842-6724-4208-ee58-220cb5606c6c"
      },
      "outputs": [
        {
          "output_type": "stream",
          "name": "stdout",
          "text": [
            "shape: (7, 4)\n",
            "┌─────────┬───────────────────────┬───────────────────────────────────┬────────────────────────────┐\n",
            "│ Clarity ┆ Number of Diamonds in ┆ Average Price in respective gr…   ┆ Total Carats in respective │\n",
            "│ ---     ┆ respecti…             ┆ ---                               ┆ gra…                       │\n",
            "│ str     ┆ ---                   ┆ f64                               ┆ ---                        │\n",
            "│         ┆ u32                   ┆                                   ┆ f64                        │\n",
            "╞═════════╪═══════════════════════╪═══════════════════════════════════╪════════════════════════════╡\n",
            "│ FL      ┆ 4                     ┆ 63776.0                           ┆ 7.87                       │\n",
            "│ IF      ┆ 219                   ┆ 22105.844749                      ┆ 316.0                      │\n",
            "│ VVS1    ┆ 285                   ┆ 16845.680702                      ┆ 389.43                     │\n",
            "│ VVS2    ┆ 666                   ┆ 14142.177177                      ┆ 876.58                     │\n",
            "│ VS1     ┆ 1192                  ┆ 13694.113255                      ┆ 1682.74                    │\n",
            "│ VS2     ┆ 1575                  ┆ 11809.053333                      ┆ 2170.81                    │\n",
            "│ SI1     ┆ 2059                  ┆ 8018.864012                       ┆ 2563.69                    │\n",
            "└─────────┴───────────────────────┴───────────────────────────────────┴────────────────────────────┘\n"
          ]
        }
      ],
      "source": [
        "clarity_breakdown = (\n",
        "    df.group_by(\"Clarity\")\n",
        "      .agg([\n",
        "          pl.len().alias(\"Number of Diamonds in respective grade\"),\n",
        "          pl.col(\"Price\").mean().alias(\"Average Price in respective grade\"),\n",
        "          pl.col(\"Carat Weight\").sum().alias(\"Total Carats in respective grade\")\n",
        "      ])\n",
        "      .sort(\"Average Price in respective grade\", descending=True)\n",
        ")\n",
        "\n",
        "print(clarity_breakdown)"
      ]
    },
    {
      "cell_type": "markdown",
      "metadata": {
        "id": "th7lqwx0zcr4"
      },
      "source": [
        "### Question 9: \"My luxury competitor claims they have the best prices for every cut-color combination. Show me our pricing structure across these combinations - I want to see where we're competitive.\""
      ]
    },
    {
      "cell_type": "code",
      "execution_count": 23,
      "metadata": {
        "colab": {
          "base_uri": "https://localhost:8080/"
        },
        "id": "jCJPZ70Vzcr4",
        "outputId": "7e66d262-864d-422e-f9a1-336d0c6a97fd"
      },
      "outputs": [
        {
          "output_type": "stream",
          "name": "stdout",
          "text": [
            "shape: (30, 5)\n",
            "┌───────────┬───────┬───────────────┬──────────────┬────────────────────┐\n",
            "│ Cut       ┆ Color ┆ Average Price ┆ Median Price ┆ Number of Diamonds │\n",
            "│ ---       ┆ ---   ┆ ---           ┆ ---          ┆ ---                │\n",
            "│ str       ┆ str   ┆ f64           ┆ f64          ┆ u32                │\n",
            "╞═══════════╪═══════╪═══════════════╪══════════════╪════════════════════╡\n",
            "│ Fair      ┆ D     ┆ 6058.25       ┆ 5040.0       ┆ 12                 │\n",
            "│ Fair      ┆ E     ┆ 5370.625      ┆ 4908.5       ┆ 32                 │\n",
            "│ Fair      ┆ F     ┆ 6063.625      ┆ 4628.0       ┆ 24                 │\n",
            "│ Fair      ┆ G     ┆ 7345.52381    ┆ 4646.0       ┆ 21                 │\n",
            "│ Fair      ┆ H     ┆ 5908.5        ┆ 4358.0       ┆ 24                 │\n",
            "│ …         ┆ …     ┆ …             ┆ …            ┆ …                  │\n",
            "│ Very Good ┆ E     ┆ 12101.910217  ┆ 6703.0       ┆ 323                │\n",
            "│ Very Good ┆ F     ┆ 12413.905495  ┆ 8330.0       ┆ 455                │\n",
            "│ Very Good ┆ G     ┆ 12354.013841  ┆ 8249.0       ┆ 578                │\n",
            "│ Very Good ┆ H     ┆ 10056.106132  ┆ 6564.0       ┆ 424                │\n",
            "│ Very Good ┆ I     ┆ 8930.031332   ┆ 6684.0       ┆ 383                │\n",
            "└───────────┴───────┴───────────────┴──────────────┴────────────────────┘\n"
          ]
        },
        {
          "output_type": "stream",
          "name": "stderr",
          "text": [
            "/tmp/ipython-input-535124654.py:8: DeprecationWarning: `pl.count()` is deprecated. Please use `pl.len()` instead.\n",
            "  pl.count().alias(\"Number of Diamonds\")\n"
          ]
        }
      ],
      "source": [
        "# Your code here:\n",
        "\n",
        "cut_color_pricing = (\n",
        "    df.group_by([\"Cut\", \"Color\"])\n",
        "      .agg([\n",
        "          pl.col(\"Price\").mean().alias(\"Average Price\"),\n",
        "          pl.col(\"Price\").median().alias(\"Median Price\"),\n",
        "          pl.count().alias(\"Number of Diamonds\")\n",
        "      ])\n",
        "      .sort([\"Cut\", \"Color\"])\n",
        ")\n",
        "\n",
        "print(cut_color_pricing)\n",
        "\n"
      ]
    },
    {
      "cell_type": "markdown",
      "metadata": {
        "id": "ObWf3oNSzcr4"
      },
      "source": [
        "**Reflection:** How specific is your analysis now? What level of detail does each row represent?"
      ]
    },
    {
      "cell_type": "markdown",
      "metadata": {
        "id": "HRKyyL3gzcr4"
      },
      "source": [
        "**Your answer:** New grain = Since the data has been grouped or aggregated (by cut, color, clarity) for analysis, each row now represents a summary at that level instead of a single diamond.\n",
        "This data is increasingly granular and business-oriented. Instead of only looking at overall averages, I’m breaking the data down by dimensions (cut, color, clarity) and combining them to answer more targeted business questions (e.g., premium positioning, inventory exposure, competitor comparisons)."
      ]
    },
    {
      "cell_type": "markdown",
      "metadata": {
        "id": "SMje1rkfzcr4"
      },
      "source": [
        "### Question 10: URGENT - \"Our biggest client is interested in purchasing entire inventory segments. They asked: 'Which color-cut combinations represent your highest total inventory value?' Show me the top 5 most valuable inventory segments by total worth, and include how many diamonds are in each segment.\"\n",
        "\n",
        "This is critical for tomorrow's negotiation."
      ]
    },
    {
      "cell_type": "code",
      "execution_count": 25,
      "metadata": {
        "colab": {
          "base_uri": "https://localhost:8080/"
        },
        "id": "OLIT10oizcr4",
        "outputId": "69d76bd3-dceb-4bfa-e83d-5de328163ce6"
      },
      "outputs": [
        {
          "output_type": "stream",
          "name": "stdout",
          "text": [
            "shape: (5, 4)\n",
            "┌───────────┬───────┬───────────────────────┬────────────────────┐\n",
            "│ Cut       ┆ Color ┆ Total Inventory Value ┆ Number of Diamonds │\n",
            "│ ---       ┆ ---   ┆ ---                   ┆ ---                │\n",
            "│ str       ┆ str   ┆ i64                   ┆ u32                │\n",
            "╞═══════════╪═══════╪═══════════════════════╪════════════════════╡\n",
            "│ Ideal     ┆ G     ┆ 9363514               ┆ 690                │\n",
            "│ Very Good ┆ G     ┆ 7140620               ┆ 578                │\n",
            "│ Very Good ┆ F     ┆ 5648327               ┆ 455                │\n",
            "│ Ideal     ┆ F     ┆ 5346782               ┆ 363                │\n",
            "│ Ideal     ┆ H     ┆ 5279687               ┆ 458                │\n",
            "└───────────┴───────┴───────────────────────┴────────────────────┘\n"
          ]
        },
        {
          "output_type": "stream",
          "name": "stderr",
          "text": [
            "/tmp/ipython-input-2282201997.py:6: DeprecationWarning: `pl.count()` is deprecated. Please use `pl.len()` instead.\n",
            "  pl.count().alias(\"Number of Diamonds\")\n"
          ]
        }
      ],
      "source": [
        "# Your code here:\n",
        "segment_value = (\n",
        "    df.group_by([\"Cut\", \"Color\"])\n",
        "      .agg([\n",
        "          pl.sum(\"Price\").alias(\"Total Inventory Value\"),\n",
        "          pl.count().alias(\"Number of Diamonds\")\n",
        "      ])\n",
        "      .sort(\"Total Inventory Value\", descending=True)\n",
        "      .head(5)\n",
        ")\n",
        "\n",
        "print(segment_value)"
      ]
    },
    {
      "cell_type": "markdown",
      "metadata": {
        "id": "bHASLX8Kzcr5"
      },
      "source": [
        "## Debrief\n",
        "\n",
        "Congratulations! You've just completed your first day as the diamond company's data analyst.\n",
        "\n",
        "Remember:\n",
        "- CEOs speak in business language, not technical terms\n",
        "- Always understand what each row represents before analyzing\n",
        "- Business questions contain clues about which operations to use"
      ]
    }
  ],
  "metadata": {
    "kernelspec": {
      "display_name": "Python 3",
      "language": "python",
      "name": "python3"
    },
    "language_info": {
      "codemirror_mode": {
        "name": "ipython",
        "version": 3
      },
      "file_extension": ".py",
      "mimetype": "text/x-python",
      "name": "python",
      "nbconvert_exporter": "python",
      "pygments_lexer": "ipython3",
      "version": "3.12.0"
    },
    "colab": {
      "provenance": []
    }
  },
  "nbformat": 4,
  "nbformat_minor": 0
}